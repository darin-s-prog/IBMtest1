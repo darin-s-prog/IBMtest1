{
  "metadata": {
    "language_info": {
      "codemirror_mode": {
        "name": "python",
        "version": 3
      },
      "file_extension": ".py",
      "mimetype": "text/x-python",
      "name": "python",
      "nbconvert_exporter": "python",
      "pygments_lexer": "ipython3",
      "version": "3.8"
    },
    "kernelspec": {
      "name": "python",
      "display_name": "Pyolite",
      "language": "python"
    }
  },
  "nbformat_minor": 4,
  "nbformat": 4,
  "cells": [
    {
      "cell_type": "markdown",
      "source": "<H1> Data Science Tools and Ecosystem <H1> ",
      "metadata": {}
    },
    {
      "cell_type": "markdown",
      "source": "<p> In this notebook, Data Science Tools and Ecosystmes are summarized. </p>",
      "metadata": {}
    },
    {
      "cell_type": "markdown",
      "source": "<b> Objectives: </b>\n<ul>\n    <li> Popular languages used in Data Science\n    <li> Popular libraries used in Data Science\n    <li> Popular tools used in Data Science\n    <li> Provide working examples of basic expressions in Python\n</ul>\n",
      "metadata": {}
    },
    {
      "cell_type": "markdown",
      "source": "<h2> Author </h2>\nDarin",
      "metadata": {}
    },
    {
      "cell_type": "markdown",
      "source": "<p> Some of the popular languages that Data Scientists use are: </p>\n<ol>\n    <li> R\n    <li> Python\n    <li> SQL\n        </ol>",
      "metadata": {}
    },
    {
      "cell_type": "markdown",
      "source": "<p> Some of the commonly used libaries used by Data Scientists include: </p>\n<ol>\n    <li> pandas\n    <li> matplotlib\n    <li> PyTorch\n    </ol>",
      "metadata": {}
    },
    {
      "cell_type": "markdown",
      "source": "|Data Science Tools |\n|:----------|\n|MySQL|\n|Kafka|\n|nifi|\n    ",
      "metadata": {}
    },
    {
      "cell_type": "markdown",
      "source": "<h3> Below are a few examples of evaluating arithmetic expressions in Python",
      "metadata": {}
    },
    {
      "cell_type": "code",
      "source": "# This is a simple arithmetic expression to multiply then add integers\n(3*4)+5",
      "metadata": {
        "trusted": true
      },
      "execution_count": 9,
      "outputs": [
        {
          "execution_count": 9,
          "output_type": "execute_result",
          "data": {
            "text/plain": "17"
          },
          "metadata": {}
        }
      ]
    },
    {
      "cell_type": "code",
      "source": "# This will convert 200 minutes to hours by dividing by 60\n200/60",
      "metadata": {
        "trusted": true
      },
      "execution_count": 10,
      "outputs": [
        {
          "execution_count": 10,
          "output_type": "execute_result",
          "data": {
            "text/plain": "3.3333333333333335"
          },
          "metadata": {}
        }
      ]
    }
  ]
}